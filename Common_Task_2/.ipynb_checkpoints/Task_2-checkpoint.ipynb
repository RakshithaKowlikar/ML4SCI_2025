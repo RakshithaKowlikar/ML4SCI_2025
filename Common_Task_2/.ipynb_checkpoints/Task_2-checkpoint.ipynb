{
 "cells": [
  {
   "cell_type": "code",
   "execution_count": 1,
   "metadata": {
    "_cell_guid": "b1076dfc-b9ad-4769-8c92-a6c4dae69d19",
    "_uuid": "8f2839f25d086af736a60e9eeb907d3b93b6e0e5",
    "execution": {
     "iopub.execute_input": "2025-03-29T13:22:08.700936Z",
     "iopub.status.busy": "2025-03-29T13:22:08.700737Z",
     "iopub.status.idle": "2025-03-29T13:32:31.631797Z",
     "shell.execute_reply": "2025-03-29T13:32:31.630249Z",
     "shell.execute_reply.started": "2025-03-29T13:22:08.700917Z"
    }
   },
   "outputs": [
    {
     "name": "stdout",
     "output_type": "stream",
     "text": [
      "Using device: cuda\n",
      "Processing 50000 randomly selected samples out of 139306 available.\n"
     ]
    },
    {
     "name": "stderr",
     "output_type": "stream",
     "text": [
      "Processing Batches: 100%|██████████| 10/10 [10:13<00:00, 61.36s/it]\n"
     ]
    },
    {
     "name": "stdout",
     "output_type": "stream",
     "text": [
      "Point cloud dataset saved to '/kaggle/working/point_cloud_dataset.pt'.\n"
     ]
    }
   ],
   "source": [
    "# Code originally written on kaggle\n",
    "import h5py\n",
    "import numpy as np\n",
    "import torch\n",
    "import random\n",
    "from tqdm import tqdm\n",
    "\n",
    "device = torch.device(\"cuda\" if torch.cuda.is_available() else \"cpu\")\n",
    "print(f\"Using device: {device}\")\n",
    "\n",
    "# Paths\n",
    "file_path = \"/kaggle/input/quark-gluon/quark-gluon_data-set_n139306.hdf5\"\n",
    "output_file = \"/kaggle/working/point_cloud_dataset.pt\"\n",
    "\n",
    "# Image dimensions\n",
    "H, W = 125, 125  \n",
    "x_coords_np, y_coords_np = np.meshgrid(np.linspace(0, 1, W), np.linspace(0, 1, H))\n",
    "\n",
    "x_coords = torch.tensor(x_coords_np, dtype=torch.float32, device=device)\n",
    "y_coords = torch.tensor(y_coords_np, dtype=torch.float32, device=device)\n",
    "\n",
    "with h5py.File(file_path, \"r\") as f:\n",
    "    X_jets = f[\"X_jets\"]\n",
    "    m0 = f[\"m0\"]\n",
    "    pt = f[\"pt\"]\n",
    "    y = f[\"y\"]\n",
    "\n",
    "    total_events = X_jets.shape[0]\n",
    "    num_samples = min(50000, total_events)  # Limiting to 50,000 samples\n",
    "\n",
    "    random.seed(42)  \n",
    "    selected_indices = sorted(random.sample(range(total_events), num_samples))  \n",
    "\n",
    "    print(f\"Processing {num_samples} randomly selected samples out of {total_events} available.\")\n",
    "\n",
    "    dataset = {\"point_clouds\": [], \"labels\": []}\n",
    "    batch_size = 5000\n",
    "\n",
    "    for start in tqdm(range(0, num_samples, batch_size), desc=\"Processing Batches\"):\n",
    "        end = min(start + batch_size, num_samples)\n",
    "        batch_indices = selected_indices[start:end]  \n",
    "\n",
    "        X_batch = torch.tensor(X_jets[batch_indices], dtype=torch.float32, device=device)\n",
    "        m0_batch = torch.tensor(m0[batch_indices], dtype=torch.float32, device=device)\n",
    "        pt_batch = torch.tensor(pt[batch_indices], dtype=torch.float32, device=device)\n",
    "        y_batch = torch.tensor(y[batch_indices], dtype=torch.float32, device=device)\n",
    "\n",
    "        for i in range(end - start):\n",
    "            nonzero_mask = torch.any(X_batch[i] > 0, dim=-1)  \n",
    "\n",
    "            nonzero_x = x_coords[nonzero_mask]\n",
    "            nonzero_y = y_coords[nonzero_mask]\n",
    "            nonzero_features = X_batch[i][nonzero_mask]  \n",
    "            \n",
    "            if nonzero_x.numel() == 0:  \n",
    "                continue  # Skip empty point clouds\n",
    "\n",
    "            num_points = nonzero_x.shape[0]\n",
    "            jet_features = torch.stack([\n",
    "                nonzero_x, nonzero_y,\n",
    "                nonzero_features[:, 0], nonzero_features[:, 1], nonzero_features[:, 2],\n",
    "                torch.full((num_points,), m0_batch[i], dtype=torch.float32, device=device),\n",
    "                torch.full((num_points,), pt_batch[i], dtype=torch.float32, device=device)\n",
    "            ], dim=1)\n",
    "\n",
    "            dataset[\"point_clouds\"].append(jet_features.cpu()) \n",
    "            dataset[\"labels\"].append(y_batch[i].cpu())\n",
    "\n",
    "    torch.save(dataset, output_file)\n",
    "    print(f\"Point cloud dataset saved to '{output_file}'.\")\n"
   ]
  },
  {
   "cell_type": "code",
   "execution_count": 2,
   "metadata": {
    "execution": {
     "iopub.execute_input": "2025-03-29T13:32:45.282157Z",
     "iopub.status.busy": "2025-03-29T13:32:45.281750Z",
     "iopub.status.idle": "2025-03-29T13:34:47.702837Z",
     "shell.execute_reply": "2025-03-29T13:34:47.701594Z",
     "shell.execute_reply.started": "2025-03-29T13:32:45.282106Z"
    }
   },
   "outputs": [
    {
     "name": "stdout",
     "output_type": "stream",
     "text": [
      "Looking in links: https://data.pyg.org/whl/torch-2.5.0+cu121.html\n",
      "Collecting torch-scatter\n",
      "  Downloading https://data.pyg.org/whl/torch-2.5.0%2Bcu121/torch_scatter-2.1.2%2Bpt25cu121-cp310-cp310-linux_x86_64.whl (10.9 MB)\n",
      "\u001b[2K     \u001b[90m━━━━━━━━━━━━━━━━━━━━━━━━━━━━━━━━━━━━━━━━\u001b[0m \u001b[32m10.9/10.9 MB\u001b[0m \u001b[31m54.6 MB/s\u001b[0m eta \u001b[36m0:00:00\u001b[0m00:01\u001b[0m0:01\u001b[0m\n",
      "\u001b[?25hCollecting torch-sparse\n",
      "  Downloading https://data.pyg.org/whl/torch-2.5.0%2Bcu121/torch_sparse-0.6.18%2Bpt25cu121-cp310-cp310-linux_x86_64.whl (5.1 MB)\n",
      "\u001b[2K     \u001b[90m━━━━━━━━━━━━━━━━━━━━━━━━━━━━━━━━━━━━━━━━\u001b[0m \u001b[32m5.1/5.1 MB\u001b[0m \u001b[31m32.8 MB/s\u001b[0m eta \u001b[36m0:00:00\u001b[0m00:01\u001b[0m00:01\u001b[0m\n",
      "\u001b[?25hCollecting torch-cluster\n",
      "  Downloading https://data.pyg.org/whl/torch-2.5.0%2Bcu121/torch_cluster-1.6.3%2Bpt25cu121-cp310-cp310-linux_x86_64.whl (3.4 MB)\n",
      "\u001b[2K     \u001b[90m━━━━━━━━━━━━━━━━━━━━━━━━━━━━━━━━━━━━━━━━\u001b[0m \u001b[32m3.4/3.4 MB\u001b[0m \u001b[31m17.1 MB/s\u001b[0m eta \u001b[36m0:00:00\u001b[0ma \u001b[36m0:00:01\u001b[0m\n",
      "\u001b[?25hCollecting torch-spline-conv\n",
      "  Downloading https://data.pyg.org/whl/torch-2.5.0%2Bcu121/torch_spline_conv-1.2.2%2Bpt25cu121-cp310-cp310-linux_x86_64.whl (991 kB)\n",
      "\u001b[2K     \u001b[90m━━━━━━━━━━━━━━━━━━━━━━━━━━━━━━━━━━━━━━━━\u001b[0m \u001b[32m991.6/991.6 kB\u001b[0m \u001b[31m8.2 MB/s\u001b[0m eta \u001b[36m0:00:00\u001b[0ma \u001b[36m0:00:01\u001b[0m\n",
      "\u001b[?25hRequirement already satisfied: scipy in /usr/local/lib/python3.10/dist-packages (from torch-sparse) (1.13.1)\n",
      "Requirement already satisfied: numpy<2.3,>=1.22.4 in /usr/local/lib/python3.10/dist-packages (from scipy->torch-sparse) (1.26.4)\n",
      "Requirement already satisfied: mkl_fft in /usr/local/lib/python3.10/dist-packages (from numpy<2.3,>=1.22.4->scipy->torch-sparse) (1.3.8)\n",
      "Requirement already satisfied: mkl_random in /usr/local/lib/python3.10/dist-packages (from numpy<2.3,>=1.22.4->scipy->torch-sparse) (1.2.4)\n",
      "Requirement already satisfied: mkl_umath in /usr/local/lib/python3.10/dist-packages (from numpy<2.3,>=1.22.4->scipy->torch-sparse) (0.1.1)\n",
      "Requirement already satisfied: mkl in /usr/local/lib/python3.10/dist-packages (from numpy<2.3,>=1.22.4->scipy->torch-sparse) (2025.0.1)\n",
      "Requirement already satisfied: tbb4py in /usr/local/lib/python3.10/dist-packages (from numpy<2.3,>=1.22.4->scipy->torch-sparse) (2022.0.0)\n",
      "Requirement already satisfied: mkl-service in /usr/local/lib/python3.10/dist-packages (from numpy<2.3,>=1.22.4->scipy->torch-sparse) (2.4.1)\n",
      "Requirement already satisfied: intel-openmp>=2024 in /usr/local/lib/python3.10/dist-packages (from mkl->numpy<2.3,>=1.22.4->scipy->torch-sparse) (2024.2.0)\n",
      "Requirement already satisfied: tbb==2022.* in /usr/local/lib/python3.10/dist-packages (from mkl->numpy<2.3,>=1.22.4->scipy->torch-sparse) (2022.0.0)\n",
      "Requirement already satisfied: tcmlib==1.* in /usr/local/lib/python3.10/dist-packages (from tbb==2022.*->mkl->numpy<2.3,>=1.22.4->scipy->torch-sparse) (1.2.0)\n",
      "Requirement already satisfied: intel-cmplr-lib-rt in /usr/local/lib/python3.10/dist-packages (from mkl_umath->numpy<2.3,>=1.22.4->scipy->torch-sparse) (2024.2.0)\n",
      "Requirement already satisfied: intel-cmplr-lib-ur==2024.2.0 in /usr/local/lib/python3.10/dist-packages (from intel-openmp>=2024->mkl->numpy<2.3,>=1.22.4->scipy->torch-sparse) (2024.2.0)\n",
      "Installing collected packages: torch-spline-conv, torch-scatter, torch-sparse, torch-cluster\n",
      "Successfully installed torch-cluster-1.6.3+pt25cu121 torch-scatter-2.1.2+pt25cu121 torch-sparse-0.6.18+pt25cu121 torch-spline-conv-1.2.2+pt25cu121\n",
      "Collecting torch-geometric\n",
      "  Downloading torch_geometric-2.6.1-py3-none-any.whl.metadata (63 kB)\n",
      "\u001b[2K     \u001b[90m━━━━━━━━━━━━━━━━━━━━━━━━━━━━━━━━━━━━━━━━\u001b[0m \u001b[32m63.1/63.1 kB\u001b[0m \u001b[31m2.9 MB/s\u001b[0m eta \u001b[36m0:00:00\u001b[0m\n",
      "\u001b[?25hRequirement already satisfied: aiohttp in /usr/local/lib/python3.10/dist-packages (from torch-geometric) (3.11.12)\n",
      "Requirement already satisfied: fsspec in /usr/local/lib/python3.10/dist-packages (from torch-geometric) (2024.12.0)\n",
      "Requirement already satisfied: jinja2 in /usr/local/lib/python3.10/dist-packages (from torch-geometric) (3.1.4)\n",
      "Requirement already satisfied: numpy in /usr/local/lib/python3.10/dist-packages (from torch-geometric) (1.26.4)\n",
      "Requirement already satisfied: psutil>=5.8.0 in /usr/local/lib/python3.10/dist-packages (from torch-geometric) (5.9.5)\n",
      "Requirement already satisfied: pyparsing in /usr/local/lib/python3.10/dist-packages (from torch-geometric) (3.2.0)\n",
      "Requirement already satisfied: requests in /usr/local/lib/python3.10/dist-packages (from torch-geometric) (2.32.3)\n",
      "Requirement already satisfied: tqdm in /usr/local/lib/python3.10/dist-packages (from torch-geometric) (4.67.1)\n",
      "Requirement already satisfied: aiohappyeyeballs>=2.3.0 in /usr/local/lib/python3.10/dist-packages (from aiohttp->torch-geometric) (2.4.6)\n",
      "Requirement already satisfied: aiosignal>=1.1.2 in /usr/local/lib/python3.10/dist-packages (from aiohttp->torch-geometric) (1.3.2)\n",
      "Requirement already satisfied: async-timeout<6.0,>=4.0 in /usr/local/lib/python3.10/dist-packages (from aiohttp->torch-geometric) (5.0.1)\n",
      "Requirement already satisfied: attrs>=17.3.0 in /usr/local/lib/python3.10/dist-packages (from aiohttp->torch-geometric) (25.1.0)\n",
      "Requirement already satisfied: frozenlist>=1.1.1 in /usr/local/lib/python3.10/dist-packages (from aiohttp->torch-geometric) (1.5.0)\n",
      "Requirement already satisfied: multidict<7.0,>=4.5 in /usr/local/lib/python3.10/dist-packages (from aiohttp->torch-geometric) (6.1.0)\n",
      "Requirement already satisfied: propcache>=0.2.0 in /usr/local/lib/python3.10/dist-packages (from aiohttp->torch-geometric) (0.2.1)\n",
      "Requirement already satisfied: yarl<2.0,>=1.17.0 in /usr/local/lib/python3.10/dist-packages (from aiohttp->torch-geometric) (1.18.3)\n",
      "Requirement already satisfied: MarkupSafe>=2.0 in /usr/local/lib/python3.10/dist-packages (from jinja2->torch-geometric) (3.0.2)\n",
      "Requirement already satisfied: mkl_fft in /usr/local/lib/python3.10/dist-packages (from numpy->torch-geometric) (1.3.8)\n",
      "Requirement already satisfied: mkl_random in /usr/local/lib/python3.10/dist-packages (from numpy->torch-geometric) (1.2.4)\n",
      "Requirement already satisfied: mkl_umath in /usr/local/lib/python3.10/dist-packages (from numpy->torch-geometric) (0.1.1)\n",
      "Requirement already satisfied: mkl in /usr/local/lib/python3.10/dist-packages (from numpy->torch-geometric) (2025.0.1)\n",
      "Requirement already satisfied: tbb4py in /usr/local/lib/python3.10/dist-packages (from numpy->torch-geometric) (2022.0.0)\n",
      "Requirement already satisfied: mkl-service in /usr/local/lib/python3.10/dist-packages (from numpy->torch-geometric) (2.4.1)\n",
      "Requirement already satisfied: charset-normalizer<4,>=2 in /usr/local/lib/python3.10/dist-packages (from requests->torch-geometric) (3.4.1)\n",
      "Requirement already satisfied: idna<4,>=2.5 in /usr/local/lib/python3.10/dist-packages (from requests->torch-geometric) (3.10)\n",
      "Requirement already satisfied: urllib3<3,>=1.21.1 in /usr/local/lib/python3.10/dist-packages (from requests->torch-geometric) (2.3.0)\n",
      "Requirement already satisfied: certifi>=2017.4.17 in /usr/local/lib/python3.10/dist-packages (from requests->torch-geometric) (2025.1.31)\n",
      "Requirement already satisfied: typing-extensions>=4.1.0 in /usr/local/lib/python3.10/dist-packages (from multidict<7.0,>=4.5->aiohttp->torch-geometric) (4.12.2)\n",
      "Requirement already satisfied: intel-openmp>=2024 in /usr/local/lib/python3.10/dist-packages (from mkl->numpy->torch-geometric) (2024.2.0)\n",
      "Requirement already satisfied: tbb==2022.* in /usr/local/lib/python3.10/dist-packages (from mkl->numpy->torch-geometric) (2022.0.0)\n",
      "Requirement already satisfied: tcmlib==1.* in /usr/local/lib/python3.10/dist-packages (from tbb==2022.*->mkl->numpy->torch-geometric) (1.2.0)\n",
      "Requirement already satisfied: intel-cmplr-lib-rt in /usr/local/lib/python3.10/dist-packages (from mkl_umath->numpy->torch-geometric) (2024.2.0)\n",
      "Requirement already satisfied: intel-cmplr-lib-ur==2024.2.0 in /usr/local/lib/python3.10/dist-packages (from intel-openmp>=2024->mkl->numpy->torch-geometric) (2024.2.0)\n",
      "Downloading torch_geometric-2.6.1-py3-none-any.whl (1.1 MB)\n",
      "\u001b[2K   \u001b[90m━━━━━━━━━━━━━━━━━━━━━━━━━━━━━━━━━━━━━━━━\u001b[0m \u001b[32m1.1/1.1 MB\u001b[0m \u001b[31m21.9 MB/s\u001b[0m eta \u001b[36m0:00:00\u001b[0m00:01\u001b[0m\n",
      "\u001b[?25hInstalling collected packages: torch-geometric\n",
      "Successfully installed torch-geometric-2.6.1\n",
      "Looking in links: https://data.pyg.org/whl/torch-2.5.0+cu121.html\n",
      "Requirement already satisfied: torch-cluster in /usr/local/lib/python3.10/dist-packages (1.6.3+pt25cu121)\n",
      "Requirement already satisfied: scipy in /usr/local/lib/python3.10/dist-packages (from torch-cluster) (1.13.1)\n",
      "Requirement already satisfied: numpy<2.3,>=1.22.4 in /usr/local/lib/python3.10/dist-packages (from scipy->torch-cluster) (1.26.4)\n",
      "Requirement already satisfied: mkl_fft in /usr/local/lib/python3.10/dist-packages (from numpy<2.3,>=1.22.4->scipy->torch-cluster) (1.3.8)\n",
      "Requirement already satisfied: mkl_random in /usr/local/lib/python3.10/dist-packages (from numpy<2.3,>=1.22.4->scipy->torch-cluster) (1.2.4)\n",
      "Requirement already satisfied: mkl_umath in /usr/local/lib/python3.10/dist-packages (from numpy<2.3,>=1.22.4->scipy->torch-cluster) (0.1.1)\n",
      "Requirement already satisfied: mkl in /usr/local/lib/python3.10/dist-packages (from numpy<2.3,>=1.22.4->scipy->torch-cluster) (2025.0.1)\n",
      "Requirement already satisfied: tbb4py in /usr/local/lib/python3.10/dist-packages (from numpy<2.3,>=1.22.4->scipy->torch-cluster) (2022.0.0)\n",
      "Requirement already satisfied: mkl-service in /usr/local/lib/python3.10/dist-packages (from numpy<2.3,>=1.22.4->scipy->torch-cluster) (2.4.1)\n",
      "Requirement already satisfied: intel-openmp>=2024 in /usr/local/lib/python3.10/dist-packages (from mkl->numpy<2.3,>=1.22.4->scipy->torch-cluster) (2024.2.0)\n",
      "Requirement already satisfied: tbb==2022.* in /usr/local/lib/python3.10/dist-packages (from mkl->numpy<2.3,>=1.22.4->scipy->torch-cluster) (2022.0.0)\n",
      "Requirement already satisfied: tcmlib==1.* in /usr/local/lib/python3.10/dist-packages (from tbb==2022.*->mkl->numpy<2.3,>=1.22.4->scipy->torch-cluster) (1.2.0)\n",
      "Requirement already satisfied: intel-cmplr-lib-rt in /usr/local/lib/python3.10/dist-packages (from mkl_umath->numpy<2.3,>=1.22.4->scipy->torch-cluster) (2024.2.0)\n",
      "Requirement already satisfied: intel-cmplr-lib-ur==2024.2.0 in /usr/local/lib/python3.10/dist-packages (from intel-openmp>=2024->mkl->numpy<2.3,>=1.22.4->scipy->torch-cluster) (2024.2.0)\n",
      "Using device: cuda\n"
     ]
    },
    {
     "name": "stderr",
     "output_type": "stream",
     "text": [
      "<ipython-input-2-ebd000c1c252>:19: FutureWarning: You are using `torch.load` with `weights_only=False` (the current default value), which uses the default pickle module implicitly. It is possible to construct malicious pickle data which will execute arbitrary code during unpickling (See https://github.com/pytorch/pytorch/blob/main/SECURITY.md#untrusted-models for more details). In a future release, the default value for `weights_only` will be flipped to `True`. This limits the functions that could be executed during unpickling. Arbitrary objects will no longer be allowed to be loaded via this mode unless they are explicitly allowlisted by the user via `torch.serialization.add_safe_globals`. We recommend you start setting `weights_only=True` for any use case where you don't have full control of the loaded file. Please open an issue on GitHub for any issues related to this experimental feature.\n",
      "  dataset = torch.load(input_file)\n"
     ]
    },
    {
     "data": {
      "application/vnd.jupyter.widget-view+json": {
       "model_id": "b75f42077d434e4681d1cbe48ecc2bc0",
       "version_major": 2,
       "version_minor": 0
      },
      "text/plain": [
       "Processing Graphs:   0%|          | 0/50000 [00:00<?, ?it/s]"
      ]
     },
     "metadata": {},
     "output_type": "display_data"
    },
    {
     "name": "stdout",
     "output_type": "stream",
     "text": [
      "Graph dataset saved to '/kaggle/working/graph_dataset.pt'.\n"
     ]
    }
   ],
   "source": [
    "# ✅ STEP 2: Convert Point Clouds to Graph Dataset\n",
    "!pip install torch-scatter torch-sparse torch-cluster torch-spline-conv -f https://data.pyg.org/whl/torch-2.5.0+cu121.html\n",
    "!pip install torch-geometric\n",
    "!pip install torch-cluster -f https://data.pyg.org/whl/torch-2.5.0+cu121.html\n",
    "\n",
    "import torch\n",
    "from torch_geometric.data import Data, InMemoryDataset\n",
    "from torch_geometric.nn import knn_graph\n",
    "from tqdm.notebook import tqdm\n",
    "\n",
    "device = torch.device(\"cuda\" if torch.cuda.is_available() else \"cpu\")\n",
    "print(f\"Using device: {device}\")\n",
    "\n",
    "# Paths\n",
    "input_file = \"/kaggle/working/point_cloud_dataset.pt\"\n",
    "output_file = \"/kaggle/working/graph_dataset.pt\"\n",
    "\n",
    "# Load point cloud dataset\n",
    "dataset = torch.load(input_file)\n",
    "\n",
    "graph_data_list = []\n",
    "\n",
    "for i in tqdm(range(len(dataset[\"point_clouds\"])), desc=\"Processing Graphs\"):\n",
    "    point_cloud = dataset[\"point_clouds\"][i]\n",
    "    label = dataset[\"labels\"][i]\n",
    "\n",
    "    if point_cloud.numel() == 0:\n",
    "        continue  # Skip empty point clouds\n",
    "\n",
    "    # k-NN Graph Construction (use only spatial features `x, y`)\n",
    "    k = 8\n",
    "    edge_index = knn_graph(point_cloud[:, :2], k=k)  # Use only (x, y) for graph structure\n",
    "\n",
    "    data = Data(x=point_cloud, edge_index=edge_index, y=label)\n",
    "    graph_data_list.append(data)\n",
    "\n",
    "# ✅ Define InMemoryDataset wrapper\n",
    "class GraphDataset(InMemoryDataset):\n",
    "    def __init__(self, root=None, data_list=None):\n",
    "        super().__init__(root)\n",
    "        if data_list:\n",
    "            self.data, self.slices = self.collate(data_list)\n",
    "\n",
    "    def __len__(self):\n",
    "        return len(self.slices[\"x\"]) - 1\n",
    "\n",
    "# ✅ Save dataset correctly\n",
    "graph_dataset = GraphDataset(data_list=graph_data_list)\n",
    "torch.save(graph_dataset, output_file)\n",
    "\n",
    "print(f\"Graph dataset saved to '{output_file}'.\")\n"
   ]
  },
  {
   "cell_type": "code",
   "execution_count": 3,
   "metadata": {
    "execution": {
     "iopub.execute_input": "2025-03-28T13:08:01.838316Z",
     "iopub.status.busy": "2025-03-28T13:08:01.837174Z",
     "iopub.status.idle": "2025-03-28T13:08:05.404080Z",
     "shell.execute_reply": "2025-03-28T13:08:05.403265Z",
     "shell.execute_reply.started": "2025-03-28T13:08:01.838273Z"
    }
   },
   "outputs": [
    {
     "name": "stderr",
     "output_type": "stream",
     "text": [
      "<ipython-input-3-300146acece1>:1: FutureWarning: You are using `torch.load` with `weights_only=False` (the current default value), which uses the default pickle module implicitly. It is possible to construct malicious pickle data which will execute arbitrary code during unpickling (See https://github.com/pytorch/pytorch/blob/main/SECURITY.md#untrusted-models for more details). In a future release, the default value for `weights_only` will be flipped to `True`. This limits the functions that could be executed during unpickling. Arbitrary objects will no longer be allowed to be loaded via this mode unless they are explicitly allowlisted by the user via `torch.serialization.add_safe_globals`. We recommend you start setting `weights_only=True` for any use case where you don't have full control of the loaded file. Please open an issue on GitHub for any issues related to this experimental feature.\n",
      "  dataset = torch.load(\"/kaggle/working/graph_dataset.pt\", map_location=\"cpu\")\n"
     ]
    },
    {
     "name": "stdout",
     "output_type": "stream",
     "text": [
      "GraphDataset(50000)\n",
      "50000\n",
      "Data(x=[515, 7], edge_index=[2, 4120], y=[1])\n"
     ]
    }
   ],
   "source": [
    "dataset = torch.load(\"/kaggle/working/graph_dataset.pt\", map_location=\"cpu\")\n",
    "print(dataset)  # Should print dataset details\n",
    "\n",
    "# Check dataset samples\n",
    "print(len(dataset))\n",
    "print(dataset[0])  # Check a sample graph\n"
   ]
  },
  {
   "cell_type": "code",
   "execution_count": 3,
   "metadata": {
    "execution": {
     "iopub.execute_input": "2025-03-29T13:35:14.590056Z",
     "iopub.status.busy": "2025-03-29T13:35:14.589530Z",
     "iopub.status.idle": "2025-03-29T13:59:24.371427Z",
     "shell.execute_reply": "2025-03-29T13:59:24.370411Z",
     "shell.execute_reply.started": "2025-03-29T13:35:14.590026Z"
    }
   },
   "outputs": [
    {
     "name": "stdout",
     "output_type": "stream",
     "text": [
      "Using device: cuda\n"
     ]
    },
    {
     "name": "stderr",
     "output_type": "stream",
     "text": [
      "<ipython-input-3-856d2b5040e3>:22: FutureWarning: You are using `torch.load` with `weights_only=False` (the current default value), which uses the default pickle module implicitly. It is possible to construct malicious pickle data which will execute arbitrary code during unpickling (See https://github.com/pytorch/pytorch/blob/main/SECURITY.md#untrusted-models for more details). In a future release, the default value for `weights_only` will be flipped to `True`. This limits the functions that could be executed during unpickling. Arbitrary objects will no longer be allowed to be loaded via this mode unless they are explicitly allowlisted by the user via `torch.serialization.add_safe_globals`. We recommend you start setting `weights_only=True` for any use case where you don't have full control of the loaded file. Please open an issue on GitHub for any issues related to this experimental feature.\n",
      "  dataset = torch.load(dataset_path, map_location=\"cpu\")\n",
      "/usr/local/lib/python3.10/dist-packages/torch_geometric/deprecation.py:26: UserWarning: 'data.DataLoader' is deprecated, use 'loader.DataLoader' instead\n",
      "  warnings.warn(out)\n",
      "/usr/local/lib/python3.10/dist-packages/torch/optim/lr_scheduler.py:62: UserWarning: The verbose parameter is deprecated. Please use get_last_lr() to access the learning rate.\n",
      "  warnings.warn(\n",
      "                                                                         \r"
     ]
    },
    {
     "name": "stdout",
     "output_type": "stream",
     "text": [
      "Epoch 1/50 - Train Loss: 0.5895 - Val Loss: 0.5887 - Val Acc: 0.7094 - Val AUC: 0.7759\n"
     ]
    },
    {
     "name": "stderr",
     "output_type": "stream",
     "text": [
      "                                                                         \r"
     ]
    },
    {
     "name": "stdout",
     "output_type": "stream",
     "text": [
      "Epoch 2/50 - Train Loss: 0.5812 - Val Loss: 0.5852 - Val Acc: 0.7140 - Val AUC: 0.7780\n"
     ]
    },
    {
     "name": "stderr",
     "output_type": "stream",
     "text": [
      "                                                                         \r"
     ]
    },
    {
     "name": "stdout",
     "output_type": "stream",
     "text": [
      "Epoch 3/50 - Train Loss: 0.5771 - Val Loss: 0.5867 - Val Acc: 0.7076 - Val AUC: 0.7791\n"
     ]
    },
    {
     "name": "stderr",
     "output_type": "stream",
     "text": [
      "                                                                         \r"
     ]
    },
    {
     "name": "stdout",
     "output_type": "stream",
     "text": [
      "Epoch 4/50 - Train Loss: 0.5737 - Val Loss: 0.5742 - Val Acc: 0.7128 - Val AUC: 0.7812\n"
     ]
    },
    {
     "name": "stderr",
     "output_type": "stream",
     "text": [
      "                                                                         \r"
     ]
    },
    {
     "name": "stdout",
     "output_type": "stream",
     "text": [
      "Epoch 5/50 - Train Loss: 0.5720 - Val Loss: 0.5723 - Val Acc: 0.7182 - Val AUC: 0.7830\n"
     ]
    },
    {
     "name": "stderr",
     "output_type": "stream",
     "text": [
      "                                                                         \r"
     ]
    },
    {
     "name": "stdout",
     "output_type": "stream",
     "text": [
      "Epoch 6/50 - Train Loss: 0.5693 - Val Loss: 0.5704 - Val Acc: 0.7140 - Val AUC: 0.7812\n"
     ]
    },
    {
     "name": "stderr",
     "output_type": "stream",
     "text": [
      "                                                                         \r"
     ]
    },
    {
     "name": "stdout",
     "output_type": "stream",
     "text": [
      "Epoch 7/50 - Train Loss: 0.5675 - Val Loss: 0.5714 - Val Acc: 0.7176 - Val AUC: 0.7817\n"
     ]
    },
    {
     "name": "stderr",
     "output_type": "stream",
     "text": [
      "                                                                         \r"
     ]
    },
    {
     "name": "stdout",
     "output_type": "stream",
     "text": [
      "Epoch 8/50 - Train Loss: 0.5665 - Val Loss: 0.5759 - Val Acc: 0.7188 - Val AUC: 0.7832\n"
     ]
    },
    {
     "name": "stderr",
     "output_type": "stream",
     "text": [
      "                                                                         \r"
     ]
    },
    {
     "name": "stdout",
     "output_type": "stream",
     "text": [
      "Epoch 9/50 - Train Loss: 0.5661 - Val Loss: 0.5646 - Val Acc: 0.7174 - Val AUC: 0.7858\n"
     ]
    },
    {
     "name": "stderr",
     "output_type": "stream",
     "text": [
      "                                                                         \r"
     ]
    },
    {
     "name": "stdout",
     "output_type": "stream",
     "text": [
      "Epoch 10/50 - Train Loss: 0.5647 - Val Loss: 0.7402 - Val Acc: 0.5184 - Val AUC: 0.7588\n"
     ]
    },
    {
     "name": "stderr",
     "output_type": "stream",
     "text": [
      "                                                                         \r"
     ]
    },
    {
     "name": "stdout",
     "output_type": "stream",
     "text": [
      "Epoch 11/50 - Train Loss: 0.5639 - Val Loss: 0.5735 - Val Acc: 0.7184 - Val AUC: 0.7825\n"
     ]
    },
    {
     "name": "stderr",
     "output_type": "stream",
     "text": [
      "                                                                         \r"
     ]
    },
    {
     "name": "stdout",
     "output_type": "stream",
     "text": [
      "Epoch 12/50 - Train Loss: 0.5637 - Val Loss: 0.5710 - Val Acc: 0.7178 - Val AUC: 0.7843\n"
     ]
    },
    {
     "name": "stderr",
     "output_type": "stream",
     "text": [
      "                                                                         \r"
     ]
    },
    {
     "name": "stdout",
     "output_type": "stream",
     "text": [
      "Epoch 13/50 - Train Loss: 0.5624 - Val Loss: 0.5646 - Val Acc: 0.7208 - Val AUC: 0.7880\n"
     ]
    },
    {
     "name": "stderr",
     "output_type": "stream",
     "text": [
      "                                                                         \r"
     ]
    },
    {
     "name": "stdout",
     "output_type": "stream",
     "text": [
      "Epoch 14/50 - Train Loss: 0.5603 - Val Loss: 0.5627 - Val Acc: 0.7246 - Val AUC: 0.7874\n"
     ]
    },
    {
     "name": "stderr",
     "output_type": "stream",
     "text": [
      "                                                                         \r"
     ]
    },
    {
     "name": "stdout",
     "output_type": "stream",
     "text": [
      "Epoch 15/50 - Train Loss: 0.5612 - Val Loss: 0.5644 - Val Acc: 0.7248 - Val AUC: 0.7884\n"
     ]
    },
    {
     "name": "stderr",
     "output_type": "stream",
     "text": [
      "                                                                         \r"
     ]
    },
    {
     "name": "stdout",
     "output_type": "stream",
     "text": [
      "Epoch 16/50 - Train Loss: 0.5603 - Val Loss: 0.5621 - Val Acc: 0.7256 - Val AUC: 0.7883\n"
     ]
    },
    {
     "name": "stderr",
     "output_type": "stream",
     "text": [
      "                                                                         \r"
     ]
    },
    {
     "name": "stdout",
     "output_type": "stream",
     "text": [
      "Epoch 17/50 - Train Loss: 0.5602 - Val Loss: 0.5664 - Val Acc: 0.7202 - Val AUC: 0.7886\n"
     ]
    },
    {
     "name": "stderr",
     "output_type": "stream",
     "text": [
      "                                                                         \r"
     ]
    },
    {
     "name": "stdout",
     "output_type": "stream",
     "text": [
      "Epoch 18/50 - Train Loss: 0.5594 - Val Loss: 0.5691 - Val Acc: 0.7216 - Val AUC: 0.7882\n"
     ]
    },
    {
     "name": "stderr",
     "output_type": "stream",
     "text": [
      "                                                                         \r"
     ]
    },
    {
     "name": "stdout",
     "output_type": "stream",
     "text": [
      "Epoch 19/50 - Train Loss: 0.5580 - Val Loss: 0.5685 - Val Acc: 0.7240 - Val AUC: 0.7878\n"
     ]
    },
    {
     "name": "stderr",
     "output_type": "stream",
     "text": [
      "                                                                         \r"
     ]
    },
    {
     "name": "stdout",
     "output_type": "stream",
     "text": [
      "Epoch 20/50 - Train Loss: 0.5587 - Val Loss: 0.5680 - Val Acc: 0.7270 - Val AUC: 0.7881\n"
     ]
    },
    {
     "name": "stderr",
     "output_type": "stream",
     "text": [
      "                                                                         \r"
     ]
    },
    {
     "name": "stdout",
     "output_type": "stream",
     "text": [
      "Epoch 21/50 - Train Loss: 0.5578 - Val Loss: 0.5591 - Val Acc: 0.7236 - Val AUC: 0.7904\n"
     ]
    },
    {
     "name": "stderr",
     "output_type": "stream",
     "text": [
      "                                                                         \r"
     ]
    },
    {
     "name": "stdout",
     "output_type": "stream",
     "text": [
      "Epoch 22/50 - Train Loss: 0.5578 - Val Loss: 0.5654 - Val Acc: 0.7226 - Val AUC: 0.7880\n"
     ]
    },
    {
     "name": "stderr",
     "output_type": "stream",
     "text": [
      "                                                                         \r"
     ]
    },
    {
     "name": "stdout",
     "output_type": "stream",
     "text": [
      "Epoch 23/50 - Train Loss: 0.5570 - Val Loss: 0.5590 - Val Acc: 0.7236 - Val AUC: 0.7905\n"
     ]
    },
    {
     "name": "stderr",
     "output_type": "stream",
     "text": [
      "                                                                         \r"
     ]
    },
    {
     "name": "stdout",
     "output_type": "stream",
     "text": [
      "Epoch 24/50 - Train Loss: 0.5577 - Val Loss: 0.5613 - Val Acc: 0.7214 - Val AUC: 0.7905\n"
     ]
    },
    {
     "name": "stderr",
     "output_type": "stream",
     "text": [
      "                                                                         \r"
     ]
    },
    {
     "name": "stdout",
     "output_type": "stream",
     "text": [
      "Epoch 25/50 - Train Loss: 0.5565 - Val Loss: 0.5645 - Val Acc: 0.7216 - Val AUC: 0.7898\n"
     ]
    },
    {
     "name": "stderr",
     "output_type": "stream",
     "text": [
      "                                                                         \r"
     ]
    },
    {
     "name": "stdout",
     "output_type": "stream",
     "text": [
      "Epoch 26/50 - Train Loss: 0.5565 - Val Loss: 0.5634 - Val Acc: 0.7268 - Val AUC: 0.7880\n"
     ]
    },
    {
     "name": "stderr",
     "output_type": "stream",
     "text": [
      "                                                                         \r"
     ]
    },
    {
     "name": "stdout",
     "output_type": "stream",
     "text": [
      "Epoch 27/50 - Train Loss: 0.5564 - Val Loss: 0.5647 - Val Acc: 0.7268 - Val AUC: 0.7915\n"
     ]
    },
    {
     "name": "stderr",
     "output_type": "stream",
     "text": [
      "                                                                         \r"
     ]
    },
    {
     "name": "stdout",
     "output_type": "stream",
     "text": [
      "Epoch 28/50 - Train Loss: 0.5561 - Val Loss: 0.5603 - Val Acc: 0.7274 - Val AUC: 0.7901\n"
     ]
    },
    {
     "name": "stderr",
     "output_type": "stream",
     "text": [
      "                                                                         \r"
     ]
    },
    {
     "name": "stdout",
     "output_type": "stream",
     "text": [
      "Epoch 29/50 - Train Loss: 0.5560 - Val Loss: 0.5628 - Val Acc: 0.7206 - Val AUC: 0.7892\n"
     ]
    },
    {
     "name": "stderr",
     "output_type": "stream",
     "text": [
      "                                                                         \r"
     ]
    },
    {
     "name": "stdout",
     "output_type": "stream",
     "text": [
      "Epoch 30/50 - Train Loss: 0.5554 - Val Loss: 0.5637 - Val Acc: 0.7138 - Val AUC: 0.7869\n"
     ]
    },
    {
     "name": "stderr",
     "output_type": "stream",
     "text": [
      "                                                                         \r"
     ]
    },
    {
     "name": "stdout",
     "output_type": "stream",
     "text": [
      "Epoch 31/50 - Train Loss: 0.5554 - Val Loss: 0.5619 - Val Acc: 0.7254 - Val AUC: 0.7925\n"
     ]
    },
    {
     "name": "stderr",
     "output_type": "stream",
     "text": [
      "                                                                         \r"
     ]
    },
    {
     "name": "stdout",
     "output_type": "stream",
     "text": [
      "Epoch 32/50 - Train Loss: 0.5556 - Val Loss: 0.5612 - Val Acc: 0.7246 - Val AUC: 0.7909\n"
     ]
    },
    {
     "name": "stderr",
     "output_type": "stream",
     "text": [
      "                                                                         \r"
     ]
    },
    {
     "name": "stdout",
     "output_type": "stream",
     "text": [
      "Epoch 33/50 - Train Loss: 0.5552 - Val Loss: 0.5621 - Val Acc: 0.7260 - Val AUC: 0.7910\n"
     ]
    },
    {
     "name": "stderr",
     "output_type": "stream",
     "text": [
      "                                                                         \r"
     ]
    },
    {
     "name": "stdout",
     "output_type": "stream",
     "text": [
      "Epoch 34/50 - Train Loss: 0.5555 - Val Loss: 0.5575 - Val Acc: 0.7288 - Val AUC: 0.7922\n"
     ]
    },
    {
     "name": "stderr",
     "output_type": "stream",
     "text": [
      "                                                                         \r"
     ]
    },
    {
     "name": "stdout",
     "output_type": "stream",
     "text": [
      "Epoch 35/50 - Train Loss: 0.5556 - Val Loss: 0.5559 - Val Acc: 0.7254 - Val AUC: 0.7915\n"
     ]
    },
    {
     "name": "stderr",
     "output_type": "stream",
     "text": [
      "                                                                         "
     ]
    },
    {
     "name": "stdout",
     "output_type": "stream",
     "text": [
      "Epoch 36/50 - Train Loss: 0.5542 - Val Loss: 0.5660 - Val Acc: 0.7238 - Val AUC: 0.7901\n",
      "Early stopping triggered\n"
     ]
    },
    {
     "name": "stderr",
     "output_type": "stream",
     "text": [
      "\r"
     ]
    }
   ],
   "source": [
    "import torch\n",
    "import torch.nn.functional as F\n",
    "from torch_geometric.nn import GINConv, global_mean_pool\n",
    "from torch_geometric.data import DataLoader, InMemoryDataset\n",
    "from sklearn.preprocessing import StandardScaler\n",
    "from sklearn.model_selection import StratifiedShuffleSplit\n",
    "from sklearn.utils.class_weight import compute_class_weight\n",
    "from tqdm import tqdm\n",
    "import numpy as np\n",
    "from sklearn.metrics import roc_auc_score\n",
    "import gc\n",
    "\n",
    "# Ensure GPU Memory is Cleared\n",
    "torch.cuda.empty_cache()\n",
    "gc.collect()\n",
    "\n",
    "device = torch.device(\"cuda\" if torch.cuda.is_available() else \"cpu\")\n",
    "print(f\"Using device: {device}\")\n",
    "\n",
    "# Load Dataset\n",
    "dataset_path = \"/kaggle/working/graph_dataset.pt\"\n",
    "dataset = torch.load(dataset_path, map_location=\"cpu\")\n",
    "\n",
    "# Remove Empty Graphs\n",
    "dataset = [data for data in dataset if data.edge_index.numel() > 0 and data.x.numel() > 0]\n",
    "assert len(dataset) > 0, \"All graphs were found empty after filtering.\"\n",
    "\n",
    "# Split Dataset with Stratification\n",
    "labels = np.array([data.y.item() for data in dataset])\n",
    "splitter = StratifiedShuffleSplit(n_splits=1, test_size=0.2, random_state=42)\n",
    "train_idx, temp_idx = next(splitter.split(np.zeros(len(labels)), labels))\n",
    "\n",
    "temp_labels = labels[temp_idx]\n",
    "splitter = StratifiedShuffleSplit(n_splits=1, test_size=0.5, random_state=42)\n",
    "val_idx, test_idx = next(splitter.split(np.zeros(len(temp_labels)), temp_labels))\n",
    "\n",
    "train_dataset = [dataset[i] for i in train_idx]\n",
    "val_dataset = [dataset[i] for i in val_idx]\n",
    "test_dataset = [dataset[i] for i in test_idx]\n",
    "\n",
    "# Feature Normalization (Only Fit on Train Data)\n",
    "scaler = StandardScaler()\n",
    "train_features = np.vstack([data.x.cpu().numpy().astype(np.float32) for data in train_dataset])\n",
    "scaler.fit(train_features)\n",
    "\n",
    "for data in dataset:\n",
    "    data.x = torch.tensor(scaler.transform(data.x.cpu().numpy()), dtype=torch.float32)\n",
    "\n",
    "# Compute Class Weights\n",
    "class_weights = compute_class_weight(\"balanced\", classes=np.unique(labels), y=labels)\n",
    "class_weights = torch.tensor(class_weights, dtype=torch.float32).to(device)\n",
    "\n",
    "# Data Loaders\n",
    "batch_size = 16\n",
    "train_loader = DataLoader(train_dataset, batch_size=batch_size, shuffle=True, num_workers=2, pin_memory=True)\n",
    "val_loader = DataLoader(val_dataset, batch_size=batch_size, num_workers=2, pin_memory=True)\n",
    "test_loader = DataLoader(test_dataset, batch_size=batch_size, num_workers=2, pin_memory=True)\n",
    "\n",
    "# GIN Model\n",
    "class GIN(torch.nn.Module):\n",
    "    def __init__(self, in_channels, hidden_channels=128, out_channels=1, num_layers=3):\n",
    "        super(GIN, self).__init__()\n",
    "        self.convs = torch.nn.ModuleList()\n",
    "        self.batch_norms = torch.nn.ModuleList()\n",
    "        self.dropouts = torch.nn.ModuleList()\n",
    "\n",
    "        nn1 = torch.nn.Sequential(\n",
    "            torch.nn.Linear(in_channels, hidden_channels),\n",
    "            torch.nn.LeakyReLU(0.1),\n",
    "            torch.nn.Linear(hidden_channels, hidden_channels)\n",
    "        )\n",
    "        self.convs.append(GINConv(nn1))\n",
    "        self.batch_norms.append(torch.nn.BatchNorm1d(hidden_channels))\n",
    "        self.dropouts.append(torch.nn.Dropout(0.2))\n",
    "\n",
    "        for _ in range(num_layers - 1):\n",
    "            nn_layer = torch.nn.Sequential(\n",
    "                torch.nn.Linear(hidden_channels, hidden_channels),\n",
    "                torch.nn.LeakyReLU(0.1),\n",
    "                torch.nn.Linear(hidden_channels, hidden_channels)\n",
    "            )\n",
    "            self.convs.append(GINConv(nn_layer))\n",
    "            self.batch_norms.append(torch.nn.BatchNorm1d(hidden_channels))\n",
    "            self.dropouts.append(torch.nn.Dropout(0.2))\n",
    "\n",
    "        self.fc = torch.nn.Linear(hidden_channels, out_channels)\n",
    "\n",
    "    def forward(self, x, edge_index, batch):\n",
    "        for conv, bn, do in zip(self.convs, self.batch_norms, self.dropouts):\n",
    "            x = conv(x, edge_index)\n",
    "            x = bn(x)\n",
    "            x = F.leaky_relu(x, negative_slope=0.1)\n",
    "            x = do(x)\n",
    "\n",
    "        x = global_mean_pool(x, batch)\n",
    "        return self.fc(x).squeeze()\n",
    "\n",
    "# Initialize Model\n",
    "model = GIN(in_channels=7).to(device)\n",
    "optimizer = torch.optim.AdamW(model.parameters(), lr=0.0015, weight_decay=5e-5)\n",
    "scheduler = torch.optim.lr_scheduler.ReduceLROnPlateau(optimizer, mode=\"max\", factor=0.5, patience=5, verbose=True)\n",
    "criterion = torch.nn.BCEWithLogitsLoss(pos_weight=class_weights[1])\n",
    "\n",
    "# Training Function\n",
    "def train():\n",
    "    model.train()\n",
    "    total_loss = 0\n",
    "    pbar = tqdm(train_loader, desc=\"Training\", leave=False)\n",
    "    for data in pbar:\n",
    "        data = data.to(device)\n",
    "\n",
    "        optimizer.zero_grad()\n",
    "        output = model(data.x, data.edge_index, data.batch)\n",
    "        loss = criterion(output, data.y.float().view(-1))\n",
    "\n",
    "        loss.backward()\n",
    "        torch.nn.utils.clip_grad_norm_(model.parameters(), max_norm=1.0)  # Dynamic Gradient Clipping\n",
    "        optimizer.step()\n",
    "\n",
    "        total_loss += loss.item()\n",
    "        pbar.set_postfix(loss=loss.item())\n",
    "\n",
    "    return total_loss / len(train_loader)\n",
    "\n",
    "# Evaluation Function\n",
    "def evaluate(loader):\n",
    "    model.eval()\n",
    "    total_loss = 0\n",
    "    preds, labels = [], []\n",
    "    with torch.inference_mode():\n",
    "        pbar = tqdm(loader, desc=\"Evaluating\", leave=False)\n",
    "        for data in pbar:\n",
    "            data = data.to(device)\n",
    "            output = model(data.x, data.edge_index, data.batch)\n",
    "            loss = criterion(output, data.y.float().view(-1))\n",
    "            total_loss += loss.item()\n",
    "            preds.append(output.sigmoid().cpu())\n",
    "            labels.append(data.y.cpu())\n",
    "\n",
    "    if not preds:\n",
    "        return total_loss / len(loader), None, None\n",
    "\n",
    "    preds = torch.cat(preds).numpy()\n",
    "    labels = torch.cat(labels).numpy()\n",
    "    acc = ((preds > 0.5) == labels).mean()\n",
    "    try:\n",
    "        auc = roc_auc_score(labels, preds) if len(set(labels)) > 1 else 0.5\n",
    "    except ValueError:\n",
    "        auc = 0.5\n",
    "    return total_loss / len(loader), acc, auc\n",
    "\n",
    "# Training Loop\n",
    "num_epochs = 50\n",
    "best_val_auc = 0\n",
    "patience = 5\n",
    "no_improve_epochs = 0\n",
    "\n",
    "for epoch in range(num_epochs):\n",
    "    train_loss = train()\n",
    "    val_loss, val_acc, val_auc = evaluate(val_loader)\n",
    "\n",
    "    print(f\"Epoch {epoch+1}/{num_epochs} - Train Loss: {train_loss:.4f} - Val Loss: {val_loss:.4f} - Val Acc: {val_acc:.4f} - Val AUC: {val_auc:.4f}\")\n",
    "\n",
    "    scheduler.step(val_auc)\n",
    "\n",
    "    if val_auc and val_auc > best_val_auc:\n",
    "        best_val_auc = val_auc\n",
    "        torch.save(model.state_dict(), \"/kaggle/working/best_gin_model.pt\")\n",
    "        no_improve_epochs = 0\n",
    "    else:\n",
    "        no_improve_epochs += 1\n",
    "\n",
    "    if no_improve_epochs >= patience:\n",
    "        print(\"Early stopping triggered\")\n",
    "        break\n",
    "\n",
    "torch.cuda.empty_cache()\n"
   ]
  },
  {
   "cell_type": "code",
   "execution_count": 4,
   "metadata": {
    "execution": {
     "iopub.execute_input": "2025-03-29T14:10:34.836420Z",
     "iopub.status.busy": "2025-03-29T14:10:34.835484Z",
     "iopub.status.idle": "2025-03-29T14:10:35.389582Z",
     "shell.execute_reply": "2025-03-29T14:10:35.388793Z",
     "shell.execute_reply.started": "2025-03-29T14:10:34.836386Z"
    }
   },
   "outputs": [
    {
     "data": {
      "image/png": "[encoded data removed]",
      "text/plain": [
       "<Figure size 1200x600 with 2 Axes>"
      ]
     },
     "metadata": {},
     "output_type": "display_data"
    }
   ],
   "source": [
    "import matplotlib.pyplot as plt\n",
    "import numpy as np\n",
    "\n",
    "epochs = np.arange(1, 37)\n",
    "train_loss = [0.5895, 0.5812, 0.5771, 0.5737, 0.5720, 0.5693, 0.5675, 0.5665, 0.5661, 0.5647, \n",
    "              0.5639, 0.5637, 0.5624, 0.5603, 0.5612, 0.5603, 0.5602, 0.5594, 0.5580, 0.5587, \n",
    "              0.5578, 0.5578, 0.5570, 0.5577, 0.5565, 0.5565, 0.5564, 0.5561, 0.5560, 0.5554, \n",
    "              0.5554, 0.5556, 0.5552, 0.5555, 0.5556, 0.5542]\n",
    "\n",
    "val_loss = [0.5887, 0.5852, 0.5867, 0.5742, 0.5723, 0.5704, 0.5714, 0.5759, 0.5646, 0.7402, \n",
    "            0.5735, 0.5710, 0.5646, 0.5627, 0.5644, 0.5621, 0.5664, 0.5691, 0.5685, 0.5680, \n",
    "            0.5591, 0.5654, 0.5590, 0.5613, 0.5645, 0.5634, 0.5647, 0.5603, 0.5628, 0.5637, \n",
    "            0.5619, 0.5612, 0.5621, 0.5575, 0.5559, 0.5660]\n",
    "\n",
    "val_acc = [0.7094, 0.7140, 0.7076, 0.7128, 0.7182, 0.7140, 0.7176, 0.7188, 0.7174, 0.5184, \n",
    "           0.7184, 0.7178, 0.7208, 0.7246, 0.7248, 0.7256, 0.7202, 0.7216, 0.7240, 0.7270, \n",
    "           0.7236, 0.7226, 0.7236, 0.7214, 0.7216, 0.7268, 0.7268, 0.7274, 0.7206, 0.7138, \n",
    "           0.7254, 0.7246, 0.7260, 0.7288, 0.7254, 0.7238]\n",
    "\n",
    "val_auc = [0.7759, 0.7780, 0.7791, 0.7812, 0.7830, 0.7812, 0.7817, 0.7832, 0.7858, 0.7588, \n",
    "           0.7825, 0.7843, 0.7880, 0.7874, 0.7884, 0.7883, 0.7886, 0.7882, 0.7878, 0.7881, \n",
    "           0.7904, 0.7880, 0.7905, 0.7905, 0.7898, 0.7880, 0.7915, 0.7901, 0.7892, 0.7869, \n",
    "           0.7925, 0.7909, 0.7910, 0.7922, 0.7915, 0.7901]\n",
    "\n",
    "plt.figure(figsize=(12, 6))\n",
    "plt.subplot(1, 2, 1)\n",
    "plt.plot(epochs, train_loss, label=\"Train Loss\", marker='o', linestyle='dashed')\n",
    "plt.plot(epochs, val_loss, label=\"Val Loss\", marker='s', linestyle='dashed')\n",
    "plt.xlabel(\"Epochs\")\n",
    "plt.ylabel(\"Loss\")\n",
    "plt.title(\"Training and Validation Loss\")\n",
    "plt.legend()\n",
    "plt.grid()\n",
    "\n",
    "plt.subplot(1, 2, 2)\n",
    "plt.plot(epochs, val_acc, label=\"Val Accuracy\", marker='o', linestyle='dashed')\n",
    "plt.plot(epochs, val_auc, label=\"Val AUC\", marker='s', linestyle='dashed')\n",
    "plt.xlabel(\"Epochs\")\n",
    "plt.ylabel(\"Metrics\")\n",
    "plt.title(\"Validation Accuracy & AUC\")\n",
    "plt.legend()\n",
    "plt.grid()\n",
    "\n",
    "plt.tight_layout()\n",
    "plt.show()\n"
   ]
  },
  {
   "cell_type": "code",
   "execution_count": null,
   "metadata": {},
   "outputs": [],
   "source": []
  }
 ],
 "metadata": {
  "kaggle": {
   "accelerator": "nvidiaTeslaT4",
   "dataSources": [
    {
     "datasetId": 6881687,
     "sourceId": 11047133,
     "sourceType": "datasetVersion"
    }
   ],
   "dockerImageVersionId": 30919,
   "isGpuEnabled": true,
   "isInternetEnabled": true,
   "language": "python",
   "sourceType": "notebook"
  },
  "kernelspec": {
   "display_name": "Python 3 (ipykernel)",
   "language": "python",
   "name": "python3"
  },
  "language_info": {
   "codemirror_mode": {
    "name": "ipython",
    "version": 3
   },
   "file_extension": ".py",
   "mimetype": "text/x-python",
   "name": "python",
   "nbconvert_exporter": "python",
   "pygments_lexer": "ipython3",
   "version": "3.10.12"
  }
 },
 "nbformat": 4,
 "nbformat_minor": 4
}
